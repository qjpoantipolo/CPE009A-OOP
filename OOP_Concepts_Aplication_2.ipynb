{
  "nbformat": 4,
  "nbformat_minor": 0,
  "metadata": {
    "colab": {
      "provenance": [],
      "authorship_tag": "ABX9TyNUE97Op7KCGax/u9+i+6MV",
      "include_colab_link": true
    },
    "kernelspec": {
      "name": "python3",
      "display_name": "Python 3"
    },
    "language_info": {
      "name": "python"
    }
  },
  "cells": [
    {
      "cell_type": "markdown",
      "metadata": {
        "id": "view-in-github",
        "colab_type": "text"
      },
      "source": [
        "<a href=\"https://colab.research.google.com/github/qjpoantipolo/CPE009A-OOP/blob/main/OOP_Concepts_Aplication_2.ipynb\" target=\"_parent\"><img src=\"https://colab.research.google.com/assets/colab-badge.svg\" alt=\"Open In Colab\"/></a>"
      ]
    },
    {
      "cell_type": "code",
      "execution_count": null,
      "metadata": {
        "id": "owzJGMgZhaOQ"
      },
      "outputs": [],
      "source": []
    },
    {
      "cell_type": "code",
      "source": [
        "class Shapes:\n",
        "  def __init__(self,side):\n",
        "    self.__side = side\n",
        "\n",
        "class triangle(Shapes):\n",
        "  def side(self):\n",
        "   return(3)\n",
        "\n",
        "class square(Shapes):\n",
        "  def side(self):\n",
        "   return(4)\n",
        "\n",
        "class pentagon(Shapes):\n",
        "  def side(self):\n",
        "   return(5)\n",
        "\n",
        "class hexagon(Shapes):\n",
        "  def side(self):\n",
        "   return(6)\n",
        "\n",
        "class heptagon(Shapes):\n",
        "  def side(self):\n",
        "   return(7)\n",
        "\n",
        "triangle=triangle(0)\n",
        "print(\"The total side of a Triangle is:\",triangle.side())\n",
        "square=square(0)\n",
        "print(\"The total side of a Square is:\",square.side())\n",
        "pentagon=pentagon(0)\n",
        "print(\"The total side of a Pentagon is:\",pentagon.side())\n",
        "hexagon=hexagon(0)\n",
        "print(\"The total side of a Hexagon is:\",hexagon.side())\n",
        "heptagon=heptagon(0)\n",
        "print(\"The total side of a Heptagon is:\",heptagon.side())"
      ],
      "metadata": {
        "colab": {
          "base_uri": "https://localhost:8080/"
        },
        "id": "iA6A1bwPwWEG",
        "outputId": "24fd2c42-6335-455c-c678-86cba9b4bc27"
      },
      "execution_count": 27,
      "outputs": [
        {
          "output_type": "stream",
          "name": "stdout",
          "text": [
            "The total side of a Triangle is: 3\n",
            "The total side of a Square is: 4\n",
            "The total side of a Pentagon is: 5\n",
            "The total side of a Hexagon is: 6\n",
            "The total side of a Heptagon is: 7\n"
          ]
        }
      ]
    }
  ]
}