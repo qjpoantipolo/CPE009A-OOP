{
  "nbformat": 4,
  "nbformat_minor": 0,
  "metadata": {
    "colab": {
      "provenance": [],
      "authorship_tag": "ABX9TyONB/O8CyeSp16orze1BS5E",
      "include_colab_link": true
    },
    "kernelspec": {
      "name": "python3",
      "display_name": "Python 3"
    },
    "language_info": {
      "name": "python"
    }
  },
  "cells": [
    {
      "cell_type": "markdown",
      "metadata": {
        "id": "view-in-github",
        "colab_type": "text"
      },
      "source": [
        "<a href=\"https://colab.research.google.com/github/qjpoantipolo/CPE009A-OOP/blob/main/Demo3.ipynb\" target=\"_parent\"><img src=\"https://colab.research.google.com/assets/colab-badge.svg\" alt=\"Open In Colab\"/></a>"
      ]
    },
    {
      "cell_type": "markdown",
      "source": [
        "Control Structure"
      ],
      "metadata": {
        "id": "SKqw6xk6z3zZ"
      }
    },
    {
      "cell_type": "markdown",
      "source": [
        "Types of Data structure:\n"
      ],
      "metadata": {
        "id": "oMOgDgzr0fke"
      }
    },
    {
      "cell_type": "markdown",
      "source": [
        "1. If statement"
      ],
      "metadata": {
        "id": "6AAO2UrH0s6V"
      }
    },
    {
      "cell_type": "code",
      "source": [
        "a = 12\n",
        "b = 100\n",
        "if b > a:\n",
        "  print(\"b is greater than a\")"
      ],
      "metadata": {
        "colab": {
          "base_uri": "https://localhost:8080/"
        },
        "id": "jUFtkjRB00dN",
        "outputId": "8bd1278a-0ded-4539-fb96-12b15800b055"
      },
      "execution_count": 3,
      "outputs": [
        {
          "output_type": "stream",
          "name": "stdout",
          "text": [
            "b is greater than a\n"
          ]
        }
      ]
    },
    {
      "cell_type": "markdown",
      "source": [
        "2. Elif statement"
      ],
      "metadata": {
        "id": "s1hkZNHi1TFn"
      }
    },
    {
      "cell_type": "code",
      "execution_count": 4,
      "metadata": {
        "colab": {
          "base_uri": "https://localhost:8080/"
        },
        "id": "_A4gxAulz2ud",
        "outputId": "e48d0a49-a0ab-4edd-a971-83be1088e7a0"
      },
      "outputs": [
        {
          "output_type": "stream",
          "name": "stdout",
          "text": [
            "a and b are equal\n"
          ]
        }
      ],
      "source": [
        "a = 12\n",
        "b = 12\n",
        "if b > a:\n",
        "  print(\"b is greater than a\")\n",
        "elif a==b:\n",
        "  print(\"a and b are equal\")"
      ]
    },
    {
      "cell_type": "markdown",
      "source": [
        "3. Else statement"
      ],
      "metadata": {
        "id": "5JPEr5Xb1tBO"
      }
    },
    {
      "cell_type": "code",
      "source": [
        "a = 200\n",
        "b = 33\n",
        "if b > a:\n",
        "  print(\"b is greater than a\")\n",
        "elif a == b:\n",
        "  print(\"a and b are equal\")\n",
        "else:\n",
        "  print(\"a is greater than b\")\n"
      ],
      "metadata": {
        "colab": {
          "base_uri": "https://localhost:8080/"
        },
        "id": "rYsl6Toa1vVG",
        "outputId": "f7a9a11e-0f70-427c-c5dc-8bd0a8a07ba9"
      },
      "execution_count": 5,
      "outputs": [
        {
          "output_type": "stream",
          "name": "stdout",
          "text": [
            "a is greater than b\n"
          ]
        }
      ]
    },
    {
      "cell_type": "markdown",
      "source": [
        "4. Short hand If statement"
      ],
      "metadata": {
        "id": "6gsBVFMc14HG"
      }
    },
    {
      "cell_type": "code",
      "source": [
        "if a > b: print(\"a is greater than b\")\n"
      ],
      "metadata": {
        "id": "mc23Jln119cW"
      },
      "execution_count": 8,
      "outputs": []
    },
    {
      "cell_type": "markdown",
      "source": [
        "5. Short hand If else statement"
      ],
      "metadata": {
        "id": "25pCdHDf2FqK"
      }
    },
    {
      "cell_type": "code",
      "source": [
        "a = 2\n",
        "b = 330\n",
        "print(\"A\") if a > b else print(\"B\")\n"
      ],
      "metadata": {
        "colab": {
          "base_uri": "https://localhost:8080/"
        },
        "id": "Ui7XtYMT2Mn5",
        "outputId": "0e98ad4e-4fde-427a-d752-f2d8755d0220"
      },
      "execution_count": 9,
      "outputs": [
        {
          "output_type": "stream",
          "name": "stdout",
          "text": [
            "B\n"
          ]
        }
      ]
    },
    {
      "cell_type": "markdown",
      "source": [
        "And-both conditions are true"
      ],
      "metadata": {
        "id": "LEa_wmv42Tem"
      }
    },
    {
      "cell_type": "code",
      "source": [
        "a = 200\n",
        "b = 33\n",
        "c = 500\n",
        "if a > b and c > a:\n",
        "  print(\"Both conditions are True\")\n"
      ],
      "metadata": {
        "colab": {
          "base_uri": "https://localhost:8080/"
        },
        "id": "Ob3aaoqw2tVh",
        "outputId": "8d968fb1-891b-4460-de40-935e7e18edf8"
      },
      "execution_count": 10,
      "outputs": [
        {
          "output_type": "stream",
          "name": "stdout",
          "text": [
            "Both conditions are True\n"
          ]
        }
      ]
    },
    {
      "cell_type": "markdown",
      "source": [
        "Or-at least one of the conditions is\n",
        "true"
      ],
      "metadata": {
        "id": "5JtDwdXp21R0"
      }
    },
    {
      "cell_type": "code",
      "source": [
        "a = 200\n",
        "b = 33\n",
        "c = 500\n",
        "if a > b or a > c:\n",
        "  print(\"At least one of the conditions is True\")\n"
      ],
      "metadata": {
        "colab": {
          "base_uri": "https://localhost:8080/"
        },
        "id": "OlI_O1lp24-8",
        "outputId": "91521673-c8ac-4062-a3f6-0d10203c2424"
      },
      "execution_count": 12,
      "outputs": [
        {
          "output_type": "stream",
          "name": "stdout",
          "text": [
            "At least one of the conditions is True\n"
          ]
        }
      ]
    },
    {
      "cell_type": "markdown",
      "source": [
        "Nested If"
      ],
      "metadata": {
        "id": "t4ia88Bu2_Kc"
      }
    },
    {
      "cell_type": "code",
      "source": [
        "x = 41\n",
        "if x > 10:\n",
        "  print(\"Above ten,\")\n",
        "if x > 20:\n",
        "  print(\"and also above 20!\")\n",
        "else:\n",
        "  print(\"but not above 20.\")\n"
      ],
      "metadata": {
        "colab": {
          "base_uri": "https://localhost:8080/"
        },
        "id": "PnJCMTVr3FDs",
        "outputId": "d2ca8ff7-2643-4df6-d60b-b6ff6221b1ba"
      },
      "execution_count": 11,
      "outputs": [
        {
          "output_type": "stream",
          "name": "stdout",
          "text": [
            "Above ten,\n",
            "and also above 20!\n"
          ]
        }
      ]
    },
    {
      "cell_type": "markdown",
      "source": [
        "EXAMPLE 1:"
      ],
      "metadata": {
        "id": "2Mv2RnM_3jRQ"
      }
    },
    {
      "cell_type": "code",
      "source": [
        "print(\"How old are you?: \")\n",
        "age = input()\n",
        "if (int(age)) >= 18:\n",
        "  print(\"You are qualified to vote!\")\n",
        "else:\n",
        "  print(\"Sorry, You are not yet qualified to vote\")"
      ],
      "metadata": {
        "colab": {
          "base_uri": "https://localhost:8080/"
        },
        "id": "5wll5rxi3mEO",
        "outputId": "acccae82-0a3f-41e2-cf53-e5ea9c7aaccf"
      },
      "execution_count": 23,
      "outputs": [
        {
          "output_type": "stream",
          "name": "stdout",
          "text": [
            "How old are you?: \n",
            "18\n",
            "You are qualified to vote!\n"
          ]
        }
      ]
    },
    {
      "cell_type": "markdown",
      "source": [
        "EXAMPLE 2:"
      ],
      "metadata": {
        "id": "rVwRcxGC6SlT"
      }
    },
    {
      "cell_type": "code",
      "source": [
        "print(\"Enter a whole number: \")\n",
        "x = input()\n",
        "if (int(x)) > 0:\n",
        "  print(\"POSITIVE\")\n",
        "elif (int(x)) == 0:\n",
        "  print(\"ZERO\")\n",
        "else:\n",
        "  print(\"NEGATIVE\")"
      ],
      "metadata": {
        "colab": {
          "base_uri": "https://localhost:8080/"
        },
        "id": "IPzZXMFr6VJe",
        "outputId": "63731755-9a9a-4afb-d60a-b2ed174d3338"
      },
      "execution_count": 26,
      "outputs": [
        {
          "output_type": "stream",
          "name": "stdout",
          "text": [
            "Enter a whole number: \n",
            "-86\n",
            "NEGATIVE\n"
          ]
        }
      ]
    },
    {
      "cell_type": "markdown",
      "source": [
        "EXAMPLE 3:\n"
      ],
      "metadata": {
        "id": "JTtjF_OS7RfJ"
      }
    },
    {
      "cell_type": "code",
      "source": [
        "print(\"Enter your Grade: \")\n",
        "x = input()\n",
        "if int(x) >= 70:\n",
        "  print(\"Passed\")\n",
        "elif int(x) <= 69 and int(x) >= 65:\n",
        "   print(\"Remedial\")\n",
        "elif int(x) <= 64 and int(x) >= 0:\n",
        "  print(\"Failed\")\n",
        "else:\n",
        "  print(\"Try again!\")"
      ],
      "metadata": {
        "colab": {
          "base_uri": "https://localhost:8080/"
        },
        "id": "smo5X7iy7UXg",
        "outputId": "bdee5b9b-d763-4113-dbfc-ddf92b783bff"
      },
      "execution_count": 37,
      "outputs": [
        {
          "output_type": "stream",
          "name": "stdout",
          "text": [
            "Enter your Grade: \n",
            "99\n",
            "Passed\n"
          ]
        }
      ]
    }
  ]
}