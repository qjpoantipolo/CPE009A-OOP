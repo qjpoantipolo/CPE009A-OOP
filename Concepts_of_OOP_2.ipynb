{
  "nbformat": 4,
  "nbformat_minor": 0,
  "metadata": {
    "colab": {
      "provenance": [],
      "authorship_tag": "ABX9TyOE+V4yLptjiSQ3jUyxxh8o",
      "include_colab_link": true
    },
    "kernelspec": {
      "name": "python3",
      "display_name": "Python 3"
    },
    "language_info": {
      "name": "python"
    }
  },
  "cells": [
    {
      "cell_type": "markdown",
      "metadata": {
        "id": "view-in-github",
        "colab_type": "text"
      },
      "source": [
        "<a href=\"https://colab.research.google.com/github/qjpoantipolo/CPE009A-OOP/blob/main/Concepts_of_OOP_2.ipynb\" target=\"_parent\"><img src=\"https://colab.research.google.com/assets/colab-badge.svg\" alt=\"Open In Colab\"/></a>"
      ]
    },
    {
      "cell_type": "code",
      "execution_count": null,
      "metadata": {
        "colab": {
          "base_uri": "https://localhost:8080/"
        },
        "id": "_IhXiS3Fb6nJ",
        "outputId": "ae411dac-75a6-4883-8197-27ec117bb8fa"
      },
      "outputs": [
        {
          "output_type": "stream",
          "name": "stdout",
          "text": [
            "Griffon Vulture flies above ground\n",
            "Common Crane flies above ground\n",
            "Emu flies above ground\n"
          ]
        }
      ],
      "source": [
        "class Birds:\n",
        "  def __init__(self, bird_name):\n",
        "    self.bird_name=bird_name\n",
        "  def flying_bird(self):\n",
        "    print(f\"{self.bird_name} flies above ground\")\n",
        "  def non_flying_birds(self):\n",
        "    print(f\"{self.bird} as the national bird of the philippines\")\n",
        "\n",
        "vulture=Birds(\"Griffon Vulture\")\n",
        "crane=Birds(\"Common Crane\")\n",
        "emu=Birds(\"Emu\")\n",
        "vulture.flying_bird()\n",
        "crane.flying_bird()\n",
        "emu.flying_bird()"
      ]
    },
    {
      "cell_type": "code",
      "source": [
        "class foo:\n",
        "  def __init__(self, a, b):\n",
        "    self.a = a\n",
        "    self.b = b\n",
        "  def add(self):\n",
        "    return self.a + self.b\n",
        "foo_object = foo(3,4)"
      ],
      "metadata": {
        "id": "87unCFVYdhOl"
      },
      "execution_count": null,
      "outputs": []
    },
    {
      "cell_type": "code",
      "source": [
        "class Counter:\n",
        "  def __init__(self):\n",
        "    self.current = 0\n",
        "\n",
        "  def increment(self):\n",
        "    self.current += 1\n",
        "\n",
        "  def value(self):\n",
        "    return self.current\n",
        "\n",
        "  def reset(self):\n",
        "    self.current = 0\n",
        "\n",
        "counter = Counter()\n",
        "\n",
        "counter.increment()\n",
        "counter.increment()\n",
        "counter.increment()\n",
        "\n",
        "print(counter.value)"
      ],
      "metadata": {
        "colab": {
          "base_uri": "https://localhost:8080/"
        },
        "id": "AgrTcjjZeM69",
        "outputId": "07d89598-65bd-4791-a592-df91c762e16e"
      },
      "execution_count": null,
      "outputs": [
        {
          "output_type": "stream",
          "name": "stdout",
          "text": [
            "<bound method Counter.value of <__main__.Counter object at 0x7a3e4aae3ee0>>\n"
          ]
        }
      ]
    },
    {
      "cell_type": "code",
      "source": [
        "class RegularPolygon:\n",
        "  def __init__(self,side):\n",
        "    self.side = side\n",
        "class Square(RegularPolygon):                  #Inherit the properties of supperclass \"Regular Polygon\"\n",
        "  def area(self):\n",
        "    return self.side * self.side\n",
        "class EquilateralTriangle(RegularPolygon):\n",
        "  def area(self):\n",
        "    return self.side * self.side * 0.433\n",
        "square = Square(4)\n",
        "print(square.area())\n",
        "EquilateralTriangle = EquilateralTriangle(4)\n",
        "print(EquilateralTriangle.area())"
      ],
      "metadata": {
        "colab": {
          "base_uri": "https://localhost:8080/"
        },
        "id": "e0CPEHdqfeF2",
        "outputId": "a47e9e0f-415d-4e82-bc79-58b80c29679e"
      },
      "execution_count": null,
      "outputs": [
        {
          "output_type": "stream",
          "name": "stdout",
          "text": [
            "16\n",
            "6.928\n"
          ]
        }
      ]
    },
    {
      "cell_type": "code",
      "source": [
        "class RegularPolygon:\n",
        "  def __init__(self,side):\n",
        "    self.__side = side\n",
        "  def area(self):\n",
        "    print(self.__side *self.__side)\n",
        "class square(RegularPolygon):\n",
        "  pass\n",
        "\n",
        "square = square(4)\n",
        "square.area()"
      ],
      "metadata": {
        "colab": {
          "base_uri": "https://localhost:8080/"
        },
        "id": "5abk9bJWsbQ7",
        "outputId": "33ab0fde-1e5b-4996-989d-ea5b8788d911"
      },
      "execution_count": null,
      "outputs": [
        {
          "output_type": "stream",
          "name": "stdout",
          "text": [
            "16\n"
          ]
        }
      ]
    },
    {
      "cell_type": "code",
      "source": [
        "class Student:\n",
        "  def __init__(self,pre,mid,fin):\n",
        "    self.pre = pre\n",
        "    self.mid = mid\n",
        "    self.fin = fin\n",
        "class std(Student):\n",
        "  def Grade(self):\n",
        "    return (self.pre + self.mid + self.fin)/3\n",
        "\n",
        "kenneth = std(69, 69, 69)\n",
        "print(\"Kenneth grade: \",kenneth.Grade())\n",
        "Royen = std(50, 60, 70)\n",
        "print(\"Royen grade: \",Royen.Grade())\n",
        "Ruud = std(90, 80, 85)\n",
        "print(\"Ruud grade: \",Ruud.Grade())"
      ],
      "metadata": {
        "colab": {
          "base_uri": "https://localhost:8080/"
        },
        "id": "GzoGIXJMuzPK",
        "outputId": "5d26c6e9-16b3-4bd7-ea1b-81ed59380f4f"
      },
      "execution_count": 31,
      "outputs": [
        {
          "output_type": "stream",
          "name": "stdout",
          "text": [
            "Kenneth grade:  69.0\n",
            "Royen grade:  60.0\n",
            "Ruud grade:  85.0\n"
          ]
        }
      ]
    }
  ]
}