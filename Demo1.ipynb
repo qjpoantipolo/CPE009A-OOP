{
  "nbformat": 4,
  "nbformat_minor": 0,
  "metadata": {
    "colab": {
      "provenance": [],
      "authorship_tag": "ABX9TyPIYh1vfQ+qJDfeVub6y8Sj",
      "include_colab_link": true
    },
    "kernelspec": {
      "name": "python3",
      "display_name": "Python 3"
    },
    "language_info": {
      "name": "python"
    }
  },
  "cells": [
    {
      "cell_type": "markdown",
      "metadata": {
        "id": "view-in-github",
        "colab_type": "text"
      },
      "source": [
        "<a href=\"https://colab.research.google.com/github/qjpoantipolo/CPE009A-OOP/blob/main/Demo1.ipynb\" target=\"_parent\"><img src=\"https://colab.research.google.com/assets/colab-badge.svg\" alt=\"Open In Colab\"/></a>"
      ]
    },
    {
      "cell_type": "markdown",
      "source": [
        "Phyton Indentation"
      ],
      "metadata": {
        "id": "wmGP3B5WITDB"
      }
    },
    {
      "cell_type": "code",
      "source": [
        "if 5 > 6:\n",
        "  print (\"Five is greater than 2!\")\n",
        "else:\n",
        "  print (\"ekis\")"
      ],
      "metadata": {
        "colab": {
          "base_uri": "https://localhost:8080/"
        },
        "id": "BaBXaD6zIY4x",
        "outputId": "db692303-a2b7-455d-dcf0-e6de9aea8577"
      },
      "execution_count": 8,
      "outputs": [
        {
          "output_type": "stream",
          "name": "stdout",
          "text": [
            "ekis\n"
          ]
        }
      ]
    },
    {
      "cell_type": "markdown",
      "source": [
        "Phyton Comments"
      ],
      "metadata": {
        "id": "vY6V1QPpJziU"
      }
    },
    {
      "cell_type": "code",
      "source": [
        "#This is a comment\n",
        "if 5 > 2:\n",
        "  print (\"Five is greater than 2!\") #comparison between 2 and 5"
      ],
      "metadata": {
        "colab": {
          "base_uri": "https://localhost:8080/"
        },
        "id": "bJecEmA0J3qb",
        "outputId": "d637c6e1-b269-4ce0-c47b-e611c00d6a97"
      },
      "execution_count": 13,
      "outputs": [
        {
          "output_type": "stream",
          "name": "stdout",
          "text": [
            "Five is greater than 2!\n"
          ]
        }
      ]
    },
    {
      "cell_type": "markdown",
      "source": [
        "Phyton Variable"
      ],
      "metadata": {
        "id": "gxRFyUWgKuwF"
      }
    },
    {
      "cell_type": "code",
      "source": [
        "x = 1 #This is a single variable with value\n",
        "a, b = 0, -1\n",
        "a, b, c = 0, -1, -2\n",
        "print (a)\n",
        "print (b)\n",
        "print (x)\n",
        "b = \"Kenneth\"\n",
        "print (b)"
      ],
      "metadata": {
        "colab": {
          "base_uri": "https://localhost:8080/"
        },
        "id": "ADKyKxJdLBrV",
        "outputId": "97121738-9666-4fd2-841a-d66d05202fa4"
      },
      "execution_count": 20,
      "outputs": [
        {
          "output_type": "stream",
          "name": "stdout",
          "text": [
            "0\n",
            "-1\n",
            "1\n",
            "Kenneth\n"
          ]
        }
      ]
    },
    {
      "cell_type": "markdown",
      "source": [
        "Phyton Casting"
      ],
      "metadata": {
        "id": "WinJNeG2Ncv1"
      }
    },
    {
      "cell_type": "code",
      "source": [
        "b = \"Kenneth\" #This is a type of tring\n",
        "b = int (4)\n",
        "print (b)\n",
        "\n",
        "b = float(4)\n",
        "print (b)"
      ],
      "metadata": {
        "colab": {
          "base_uri": "https://localhost:8080/"
        },
        "id": "jUYRnd0DNgfl",
        "outputId": "41afcd50-096e-4740-a2b1-821ab726c23a"
      },
      "execution_count": 21,
      "outputs": [
        {
          "output_type": "stream",
          "name": "stdout",
          "text": [
            "4\n",
            "4.0\n"
          ]
        }
      ]
    },
    {
      "cell_type": "markdown",
      "source": [
        "Type() Function"
      ],
      "metadata": {
        "id": "P2gG_vGRN_XG"
      }
    },
    {
      "cell_type": "code",
      "source": [
        "x = 5\n",
        "y = \"John Paul\"\n",
        "print (type(x))\n",
        "print (type(y))"
      ],
      "metadata": {
        "colab": {
          "base_uri": "https://localhost:8080/"
        },
        "id": "OhsHRFrFOBhG",
        "outputId": "0bbcfb50-bd07-495e-9320-455dd379257e"
      },
      "execution_count": 25,
      "outputs": [
        {
          "output_type": "stream",
          "name": "stdout",
          "text": [
            "<class 'int'>\n",
            "<class 'str'>\n"
          ]
        }
      ]
    },
    {
      "cell_type": "markdown",
      "source": [
        "Double qoutes and Single qoutes"
      ],
      "metadata": {
        "id": "ucODc8CpPMvF"
      }
    },
    {
      "cell_type": "code",
      "source": [
        "y = \"John\"\n",
        "print (y)\n",
        "z = 'Paul'\n",
        "print (z)"
      ],
      "metadata": {
        "colab": {
          "base_uri": "https://localhost:8080/"
        },
        "id": "dz2UDAR6PRyt",
        "outputId": "e3d4a82f-fd10-4e33-a03c-d25bdae931c5"
      },
      "execution_count": 29,
      "outputs": [
        {
          "output_type": "stream",
          "name": "stdout",
          "text": [
            "John\n",
            "Paul\n"
          ]
        }
      ]
    },
    {
      "cell_type": "markdown",
      "source": [
        "Case Sensitive"
      ],
      "metadata": {
        "id": "A7_Mx-1zP0qv"
      }
    },
    {
      "cell_type": "code",
      "source": [
        "a = 4\n",
        "A = 'Kenneth' #\"A\" will not overwrite \"a\""
      ],
      "metadata": {
        "id": "uxzZgvSYP32n"
      },
      "execution_count": 30,
      "outputs": []
    },
    {
      "cell_type": "markdown",
      "source": [
        "Multiple Variable"
      ],
      "metadata": {
        "id": "X6YnnX0sQLQW"
      }
    },
    {
      "cell_type": "code",
      "source": [
        "x, y, z = \"one\", \"two\", \"three\"\n",
        "print (x, y, z)\n"
      ],
      "metadata": {
        "colab": {
          "base_uri": "https://localhost:8080/"
        },
        "id": "32FVuUv9QOln",
        "outputId": "d56be042-921d-41ee-cf0d-4e95708c162d"
      },
      "execution_count": 32,
      "outputs": [
        {
          "output_type": "stream",
          "name": "stdout",
          "text": [
            "one two three\n"
          ]
        }
      ]
    },
    {
      "cell_type": "markdown",
      "source": [
        "One variale to Multiple Variable"
      ],
      "metadata": {
        "id": "W0ortZOEQ3_x"
      }
    },
    {
      "cell_type": "code",
      "source": [
        "x = y = z = \"four\"\n",
        "\n",
        "print (x)\n",
        "print (y)\n",
        "print (z)"
      ],
      "metadata": {
        "colab": {
          "base_uri": "https://localhost:8080/"
        },
        "id": "ybTirnUiQ8AH",
        "outputId": "ed975a12-672b-4dd2-de24-fd04e50c960c"
      },
      "execution_count": 33,
      "outputs": [
        {
          "output_type": "stream",
          "name": "stdout",
          "text": [
            "four\n",
            "four\n",
            "four\n"
          ]
        }
      ]
    },
    {
      "cell_type": "markdown",
      "source": [
        "Output Variable"
      ],
      "metadata": {
        "id": "qNrZBPiXRMwh"
      }
    },
    {
      "cell_type": "code",
      "source": [
        "x = \" is enjoying.\"\n",
        "y = \" Programming \"\n",
        "z = \"Phyton\"\n",
        "print (z + y + x)\n",
        "\n",
        "#Other way\n",
        "\n",
        "x = \"Phyton is \"\n",
        "y = \"enjoying\"\n",
        "z = x + y\n",
        "print (z)"
      ],
      "metadata": {
        "colab": {
          "base_uri": "https://localhost:8080/"
        },
        "id": "dBCPk3TFRMYP",
        "outputId": "d3bd0b2e-d6f6-4ae4-eac9-21e517ba843c"
      },
      "execution_count": 40,
      "outputs": [
        {
          "output_type": "stream",
          "name": "stdout",
          "text": [
            "Phyton Programming  is enjoying.\n",
            "Phyton is enjoying\n"
          ]
        }
      ]
    },
    {
      "cell_type": "markdown",
      "source": [
        "Arithmatic Operations\n"
      ],
      "metadata": {
        "id": "wupBUoM6VIVR"
      }
    },
    {
      "cell_type": "code",
      "source": [
        "x, y = 5, 3\n",
        "print (x + y)\n",
        "\n",
        "x, y = 5, 3\n",
        "sum = x + y\n",
        "sum"
      ],
      "metadata": {
        "colab": {
          "base_uri": "https://localhost:8080/"
        },
        "id": "u4sifAGrVNvh",
        "outputId": "0d463449-e12f-4f76-d03c-9929433ca6b5"
      },
      "execution_count": 42,
      "outputs": [
        {
          "output_type": "stream",
          "name": "stdout",
          "text": [
            "8\n"
          ]
        },
        {
          "output_type": "execute_result",
          "data": {
            "text/plain": [
              "8"
            ]
          },
          "metadata": {},
          "execution_count": 42
        }
      ]
    },
    {
      "cell_type": "markdown",
      "source": [
        "Assignment Operators"
      ],
      "metadata": {
        "id": "kaGkdIA0V0op"
      }
    },
    {
      "cell_type": "code",
      "source": [
        "a, b, c = 0, -1, 6\n",
        "c%=3\n",
        "c"
      ],
      "metadata": {
        "colab": {
          "base_uri": "https://localhost:8080/"
        },
        "id": "znDFFLMQV3Jq",
        "outputId": "7eb653d8-3e7b-4403-b380-cd48e9d8e4fa"
      },
      "execution_count": 45,
      "outputs": [
        {
          "output_type": "execute_result",
          "data": {
            "text/plain": [
              "0"
            ]
          },
          "metadata": {},
          "execution_count": 45
        }
      ]
    },
    {
      "cell_type": "markdown",
      "source": [
        "Comparison Operators"
      ],
      "metadata": {
        "id": "9VHKpYZLWaeS"
      }
    },
    {
      "cell_type": "code",
      "source": [
        "x = 1\n",
        "y = 1\n",
        "x == y"
      ],
      "metadata": {
        "colab": {
          "base_uri": "https://localhost:8080/"
        },
        "id": "WofVzvx9WdTb",
        "outputId": "e47bfbad-a716-441f-dc06-e8c757f617a0"
      },
      "execution_count": 51,
      "outputs": [
        {
          "output_type": "execute_result",
          "data": {
            "text/plain": [
              "True"
            ]
          },
          "metadata": {},
          "execution_count": 51
        }
      ]
    },
    {
      "cell_type": "markdown",
      "source": [
        "Logical Operators"
      ],
      "metadata": {
        "id": "bBrSf9D3W19y"
      }
    },
    {
      "cell_type": "code",
      "source": [
        "x = 1\n",
        "x < 5 and x < 10"
      ],
      "metadata": {
        "colab": {
          "base_uri": "https://localhost:8080/"
        },
        "id": "1X51qYWhW4i6",
        "outputId": "3a0c66df-6e1b-4dbe-9fab-8f2e1de495cd"
      },
      "execution_count": 49,
      "outputs": [
        {
          "output_type": "execute_result",
          "data": {
            "text/plain": [
              "True"
            ]
          },
          "metadata": {},
          "execution_count": 49
        }
      ]
    },
    {
      "cell_type": "markdown",
      "source": [
        "Identity Operators"
      ],
      "metadata": {
        "id": "r3DS8GXvXeHC"
      }
    },
    {
      "cell_type": "code",
      "source": [
        "a, b, c = 0, -1, 5\n",
        "a is a"
      ],
      "metadata": {
        "colab": {
          "base_uri": "https://localhost:8080/"
        },
        "id": "9_2wQg8mXggb",
        "outputId": "af43bb4b-1498-4918-f162-9af4366b4eb7"
      },
      "execution_count": 53,
      "outputs": [
        {
          "output_type": "execute_result",
          "data": {
            "text/plain": [
              "True"
            ]
          },
          "metadata": {},
          "execution_count": 53
        }
      ]
    }
  ]
}