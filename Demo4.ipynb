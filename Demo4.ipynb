{
  "nbformat": 4,
  "nbformat_minor": 0,
  "metadata": {
    "colab": {
      "provenance": [],
      "authorship_tag": "ABX9TyOD0v3ibd8+iOZHPjU624ba",
      "include_colab_link": true
    },
    "kernelspec": {
      "name": "python3",
      "display_name": "Python 3"
    },
    "language_info": {
      "name": "python"
    }
  },
  "cells": [
    {
      "cell_type": "markdown",
      "metadata": {
        "id": "view-in-github",
        "colab_type": "text"
      },
      "source": [
        "<a href=\"https://colab.research.google.com/github/qjpoantipolo/CPE009A-OOP/blob/main/Demo4.ipynb\" target=\"_parent\"><img src=\"https://colab.research.google.com/assets/colab-badge.svg\" alt=\"Open In Colab\"/></a>"
      ]
    },
    {
      "cell_type": "markdown",
      "source": [
        "**Operations and Expressions in Phyton**\n",
        "\n"
      ],
      "metadata": {
        "id": "C7md6XrZW4hY"
      }
    },
    {
      "cell_type": "code",
      "execution_count": 8,
      "metadata": {
        "colab": {
          "base_uri": "https://localhost:8080/"
        },
        "id": "q1vxu31FW38F",
        "outputId": "01c03db6-8bee-4747-ad93-75ac8c3e71a3"
      },
      "outputs": [
        {
          "output_type": "stream",
          "name": "stdout",
          "text": [
            "True\n",
            "True\n",
            "True\n",
            "False\n",
            "False\n",
            "False\n",
            "False\n",
            "False\n",
            "False\n",
            "False\n"
          ]
        }
      ],
      "source": [
        "print(bool(\"Hello\"))\n",
        "print(bool(True))\n",
        "print(bool(15))\n",
        "print(bool(False))\n",
        "print(bool(None))\n",
        "print(bool(0))\n",
        "print(bool(\"\"))\n",
        "print(bool())\n",
        "print(bool([]))\n",
        "print(bool({}))\n"
      ]
    },
    {
      "cell_type": "markdown",
      "source": [
        "**Funtions can Return a Boolean**"
      ],
      "metadata": {
        "id": "OsRVxsDjY2ww"
      }
    },
    {
      "cell_type": "code",
      "source": [
        "def myFunction():\n",
        "  return True\n",
        "\n",
        "print (myFunction())"
      ],
      "metadata": {
        "colab": {
          "base_uri": "https://localhost:8080/"
        },
        "id": "-DzVYFTZY5Zv",
        "outputId": "2ce46d5b-84e7-4cf3-c1e4-d36f48204c31"
      },
      "execution_count": 11,
      "outputs": [
        {
          "output_type": "stream",
          "name": "stdout",
          "text": [
            "True\n"
          ]
        }
      ]
    },
    {
      "cell_type": "code",
      "source": [
        "def myFunc():\n",
        "  return True\n",
        "\n",
        "if myFunc():\n",
        "  print(\"YES!\")\n",
        "else:\n",
        "  print(\"NO!\")"
      ],
      "metadata": {
        "colab": {
          "base_uri": "https://localhost:8080/"
        },
        "id": "W8Qf09CLaLdJ",
        "outputId": "69b464f7-0056-4d85-bf2d-178b73214552"
      },
      "execution_count": 14,
      "outputs": [
        {
          "output_type": "stream",
          "name": "stdout",
          "text": [
            "YES!\n"
          ]
        }
      ]
    },
    {
      "cell_type": "markdown",
      "source": [
        "**TRY!**"
      ],
      "metadata": {
        "id": "oHhlbXVObluw"
      }
    },
    {
      "cell_type": "code",
      "source": [
        "print(10>9)\n",
        "\n",
        "a=6\n",
        "b=7\n",
        "print(a==b)\n",
        "print(a!=b)"
      ],
      "metadata": {
        "colab": {
          "base_uri": "https://localhost:8080/"
        },
        "id": "jj4j6sM1besw",
        "outputId": "de5a102a-70b0-4ac9-d2af-43f2c0e0f7dd"
      },
      "execution_count": 15,
      "outputs": [
        {
          "output_type": "stream",
          "name": "stdout",
          "text": [
            "True\n",
            "False\n",
            "True\n"
          ]
        }
      ]
    },
    {
      "cell_type": "markdown",
      "source": [
        "**Phyton Operators**"
      ],
      "metadata": {
        "id": "knFymXgvb6mQ"
      }
    },
    {
      "cell_type": "code",
      "source": [
        "print(10+5)\n",
        "print(10-5)\n",
        "print(10*5)\n",
        "print(10/5)\n",
        "print(10%5)\n",
        "print(10//3)\n",
        "print(10**2)"
      ],
      "metadata": {
        "colab": {
          "base_uri": "https://localhost:8080/"
        },
        "id": "k_h6MV9FcAX4",
        "outputId": "0f0a3445-d97b-435c-d1bb-404df09dbc9d"
      },
      "execution_count": 17,
      "outputs": [
        {
          "output_type": "stream",
          "name": "stdout",
          "text": [
            "15\n",
            "5\n",
            "50\n",
            "2.0\n",
            "0\n",
            "3\n",
            "100\n"
          ]
        }
      ]
    },
    {
      "cell_type": "markdown",
      "source": [
        "**Phyton Bitwise Operators**\n"
      ],
      "metadata": {
        "id": "37MLsBRod4g4"
      }
    },
    {
      "cell_type": "code",
      "source": [
        "a=60\n",
        "b=13\n",
        "print(a&b)\n",
        "print(a|b)\n",
        "print(a^b)\n",
        "a<<2"
      ],
      "metadata": {
        "colab": {
          "base_uri": "https://localhost:8080/"
        },
        "id": "_fnUYIvweAEi",
        "outputId": "e8b18b42-5b95-4f7b-9326-71d8c13d762e"
      },
      "execution_count": 25,
      "outputs": [
        {
          "output_type": "stream",
          "name": "stdout",
          "text": [
            "12\n",
            "61\n",
            "49\n"
          ]
        },
        {
          "output_type": "execute_result",
          "data": {
            "text/plain": [
              "240"
            ]
          },
          "metadata": {},
          "execution_count": 25
        }
      ]
    },
    {
      "cell_type": "markdown",
      "source": [
        "**Phyton Assignment Operators**"
      ],
      "metadata": {
        "id": "z5-T6Rk0iAEw"
      }
    },
    {
      "cell_type": "code",
      "source": [
        "x=1\n",
        "x+=3      #same as x = x+3\n",
        "print(x)\n",
        "x-=3      #same as x = x-3\n",
        "print(x)\n",
        "x*=3      #same as x = x*3\n",
        "print(x)\n",
        "x/=3      #same as x = x/3\n",
        "print(x)\n",
        "x%=3      #same as x = x%3\n",
        "print(x)\n"
      ],
      "metadata": {
        "colab": {
          "base_uri": "https://localhost:8080/"
        },
        "id": "yc2EN9fuiFqY",
        "outputId": "9a6aceb3-e6b9-460f-aba3-965d46745514"
      },
      "execution_count": 33,
      "outputs": [
        {
          "output_type": "stream",
          "name": "stdout",
          "text": [
            "4\n",
            "1\n",
            "3\n",
            "1.0\n",
            "1.0\n"
          ]
        }
      ]
    },
    {
      "cell_type": "markdown",
      "source": [
        "**Logical Operators**"
      ],
      "metadata": {
        "id": "wIKX27v3jvAo"
      }
    },
    {
      "cell_type": "code",
      "source": [
        "y=60\n",
        "z=13\n",
        "\n",
        "print(y>z)\n",
        "print(y<z)\n",
        "print(y>z and z>y)\n",
        "print(y>z and z<y)\n",
        "print(y>z or z>y)\n",
        "print(not(y>z and z<y))"
      ],
      "metadata": {
        "colab": {
          "base_uri": "https://localhost:8080/"
        },
        "id": "75j40m_Fj-un",
        "outputId": "1590ed81-c3ad-4b01-d089-de6dc4083841"
      },
      "execution_count": 44,
      "outputs": [
        {
          "output_type": "stream",
          "name": "stdout",
          "text": [
            "True\n",
            "False\n",
            "False\n",
            "True\n",
            "True\n",
            "False\n"
          ]
        }
      ]
    },
    {
      "cell_type": "markdown",
      "source": [
        "**Identity Operator**"
      ],
      "metadata": {
        "id": "o6VQgKpzmVNI"
      }
    },
    {
      "cell_type": "code",
      "source": [
        "print(y is z)\n",
        "print(y is not z)"
      ],
      "metadata": {
        "colab": {
          "base_uri": "https://localhost:8080/"
        },
        "id": "JBp3OtYamZ15",
        "outputId": "e7abd572-b3f9-4374-c914-56918a40a771"
      },
      "execution_count": 45,
      "outputs": [
        {
          "output_type": "stream",
          "name": "stdout",
          "text": [
            "False\n",
            "True\n"
          ]
        }
      ]
    },
    {
      "cell_type": "markdown",
      "source": [
        "**Loop Statement**"
      ],
      "metadata": {
        "id": "_VZyjil7pc-o"
      }
    },
    {
      "cell_type": "code",
      "source": [
        "#For Loop\n",
        "week=[\"Sunday\",\"Monday\",\"Tuesday\",\"Wednesday\",\"Thursday\",\"Friday\",\"Saturday\"]\n",
        "for x in week:\n",
        "  print(x)"
      ],
      "metadata": {
        "colab": {
          "base_uri": "https://localhost:8080/"
        },
        "id": "BCyuuqL-pgkZ",
        "outputId": "651fb304-9ba2-4ab7-adc1-ee75646c9b2a"
      },
      "execution_count": 47,
      "outputs": [
        {
          "output_type": "stream",
          "name": "stdout",
          "text": [
            "Sunday\n",
            "Monday\n",
            "Tuesday\n",
            "Wednesday\n",
            "Thursday\n",
            "Friday\n",
            "Saturday\n"
          ]
        }
      ]
    },
    {
      "cell_type": "code",
      "source": [
        "#Break Statement\n",
        "week=[\"Sunday\",\"Monday\",\"Tuesday\",\"Wednesday\",\"Thursday\",\"Friday\",\"Saturday\"]\n",
        "for x in week:\n",
        "  print(x)\n",
        "  if x ==\"Thursday\":\n",
        "    break"
      ],
      "metadata": {
        "colab": {
          "base_uri": "https://localhost:8080/"
        },
        "id": "7OPHMwEqtkvg",
        "outputId": "34e78c8b-dc34-4e61-b9d4-9a77252d937d"
      },
      "execution_count": 54,
      "outputs": [
        {
          "output_type": "stream",
          "name": "stdout",
          "text": [
            "Sunday\n",
            "Monday\n",
            "Tuesday\n",
            "Wednesday\n",
            "Thursday\n"
          ]
        }
      ]
    },
    {
      "cell_type": "code",
      "source": [
        "#Break Statement\n",
        "week=[\"Sunday\",\"Monday\",\"Tuesday\",\"Wednesday\",\"Thursday\",\"Friday\",\"Saturday\"]\n",
        "for x in week:\n",
        "  if x ==\"Thursday\":\n",
        "    break\n",
        "  print(x)"
      ],
      "metadata": {
        "colab": {
          "base_uri": "https://localhost:8080/"
        },
        "id": "sFpjQ8rYrPgn",
        "outputId": "624bd6ec-e1db-4d4a-f662-8fed2fbfaba9"
      },
      "execution_count": 59,
      "outputs": [
        {
          "output_type": "stream",
          "name": "stdout",
          "text": [
            "Sunday\n",
            "Monday\n",
            "Tuesday\n",
            "Wednesday\n"
          ]
        }
      ]
    },
    {
      "cell_type": "code",
      "source": [
        "#Break Statement\n",
        "week=[\"Sunday\",\"Monday\",\"Tuesday\",\"Wednesday\",\"Thursday\",\"Friday\",\"Saturday\"]\n",
        "for x in week:\n",
        "  if x ==\"Thursday\":\n",
        "    print(x)"
      ],
      "metadata": {
        "colab": {
          "base_uri": "https://localhost:8080/"
        },
        "id": "NZ7qjhbLulno",
        "outputId": "1ef8ad20-6a9d-4946-f60e-d0fe25e91366"
      },
      "execution_count": 60,
      "outputs": [
        {
          "output_type": "stream",
          "name": "stdout",
          "text": [
            "Thursday\n"
          ]
        }
      ]
    },
    {
      "cell_type": "code",
      "source": [
        "#Looping through a string\n",
        "for x in \"week\":\n",
        "  print(x)"
      ],
      "metadata": {
        "colab": {
          "base_uri": "https://localhost:8080/"
        },
        "id": "4aBIKG6ftp3Q",
        "outputId": "f1114064-ee68-43f1-f624-b82c4078cd60"
      },
      "execution_count": 55,
      "outputs": [
        {
          "output_type": "stream",
          "name": "stdout",
          "text": [
            "w\n",
            "e\n",
            "e\n",
            "k\n"
          ]
        }
      ]
    },
    {
      "cell_type": "markdown",
      "source": [
        "**The range() Function**"
      ],
      "metadata": {
        "id": "ue_bJbaxvVpR"
      }
    },
    {
      "cell_type": "code",
      "source": [
        "for x in range(6):\n",
        "  print(x)\n",
        "for x in range(2, 6):\n",
        "  print(x)"
      ],
      "metadata": {
        "colab": {
          "base_uri": "https://localhost:8080/"
        },
        "id": "MQJSg5L8vbnR",
        "outputId": "279c6e64-1a4b-4d57-ff15-d16497afad27"
      },
      "execution_count": 61,
      "outputs": [
        {
          "output_type": "stream",
          "name": "stdout",
          "text": [
            "0\n",
            "1\n",
            "2\n",
            "3\n",
            "4\n",
            "5\n",
            "2\n",
            "3\n",
            "4\n",
            "5\n"
          ]
        }
      ]
    },
    {
      "cell_type": "markdown",
      "source": [
        "**Nested Loops**"
      ],
      "metadata": {
        "id": "S8A2JLb4wH6I"
      }
    },
    {
      "cell_type": "code",
      "source": [
        "adjective=[\"red\",\"big\",\"tasty\"]\n",
        "fruits=[\"apple\",\"banana\",\"cherry\"]\n",
        "\n",
        "for x in adjective:\n",
        "  for y in fruits:\n",
        "    print(x,y)"
      ],
      "metadata": {
        "colab": {
          "base_uri": "https://localhost:8080/"
        },
        "id": "O4Q_Qn7AwMrn",
        "outputId": "db6710b5-4a79-43ea-cabc-7055c5b31195"
      },
      "execution_count": 63,
      "outputs": [
        {
          "output_type": "stream",
          "name": "stdout",
          "text": [
            "red apple\n",
            "red banana\n",
            "red cherry\n",
            "big apple\n",
            "big banana\n",
            "big cherry\n",
            "tasty apple\n",
            "tasty banana\n",
            "tasty cherry\n"
          ]
        }
      ]
    },
    {
      "cell_type": "code",
      "source": [
        "#While statement\n",
        "i=1\n",
        "while i<6:\n",
        "  print(i)\n",
        "  i+=1 #i = i + 1"
      ],
      "metadata": {
        "colab": {
          "base_uri": "https://localhost:8080/"
        },
        "id": "a9LyhTDMxSRg",
        "outputId": "a2cc5dd4-da7f-4a46-fd8c-2674cd5158c1"
      },
      "execution_count": 64,
      "outputs": [
        {
          "output_type": "stream",
          "name": "stdout",
          "text": [
            "1\n",
            "2\n",
            "3\n",
            "4\n",
            "5\n"
          ]
        }
      ]
    },
    {
      "cell_type": "code",
      "source": [
        "#While with break statement\n",
        "i=1\n",
        "while i<6:\n",
        "  print(i)\n",
        "  if i == 3:\n",
        "    break\n",
        "  i+=1"
      ],
      "metadata": {
        "colab": {
          "base_uri": "https://localhost:8080/"
        },
        "id": "I4Ez7qWDxpO3",
        "outputId": "5b36c9e0-d75e-4a2a-83fd-7abe72b490c8"
      },
      "execution_count": 65,
      "outputs": [
        {
          "output_type": "stream",
          "name": "stdout",
          "text": [
            "1\n",
            "2\n",
            "3\n"
          ]
        }
      ]
    },
    {
      "cell_type": "code",
      "source": [
        "#Continue Statement\n",
        "i=0\n",
        "while i<6:\n",
        "  i+=1\n",
        "  if i==3:\n",
        "    continue\n",
        "  print(i)"
      ],
      "metadata": {
        "colab": {
          "base_uri": "https://localhost:8080/"
        },
        "id": "k90-NHxVyih4",
        "outputId": "3f3c1a34-77f1-4646-cd72-b5433060e411"
      },
      "execution_count": 66,
      "outputs": [
        {
          "output_type": "stream",
          "name": "stdout",
          "text": [
            "1\n",
            "2\n",
            "4\n",
            "5\n",
            "6\n"
          ]
        }
      ]
    },
    {
      "cell_type": "code",
      "source": [
        "#The else Statement\n",
        "i=1\n",
        "while i<6:\n",
        "  print(i)\n",
        "  i+=1\n",
        "else:\n",
        "  print(\"i is no longer less than 6\")"
      ],
      "metadata": {
        "colab": {
          "base_uri": "https://localhost:8080/"
        },
        "id": "bmBp7q8ey2mY",
        "outputId": "f1cf7042-6502-42e6-8ada-b264cb0790a8"
      },
      "execution_count": 68,
      "outputs": [
        {
          "output_type": "stream",
          "name": "stdout",
          "text": [
            "1\n",
            "2\n",
            "3\n",
            "4\n",
            "5\n",
            "i is no longer less than 6\n"
          ]
        }
      ]
    }
  ]
}