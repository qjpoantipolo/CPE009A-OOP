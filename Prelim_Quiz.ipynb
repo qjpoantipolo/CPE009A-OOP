{
  "nbformat": 4,
  "nbformat_minor": 0,
  "metadata": {
    "colab": {
      "provenance": [],
      "authorship_tag": "ABX9TyNvFukF4ZXVcXUhV0Eq6Nkw",
      "include_colab_link": true
    },
    "kernelspec": {
      "name": "python3",
      "display_name": "Python 3"
    },
    "language_info": {
      "name": "python"
    }
  },
  "cells": [
    {
      "cell_type": "markdown",
      "metadata": {
        "id": "view-in-github",
        "colab_type": "text"
      },
      "source": [
        "<a href=\"https://colab.research.google.com/github/qjpoantipolo/CPE009A-OOP/blob/main/Prelim_Quiz.ipynb\" target=\"_parent\"><img src=\"https://colab.research.google.com/assets/colab-badge.svg\" alt=\"Open In Colab\"/></a>"
      ]
    },
    {
      "cell_type": "markdown",
      "source": [
        "https://lucid.app/lucidchart/542919d8-a9b1-4221-9cfc-a419f4e2fb9a/edit?beaconFlowId=196384C5143447CF&invitationId=inv_15c579b7-87cc-4156-beff-6785c6fcb218&page=0_0#"
      ],
      "metadata": {
        "id": "JxyeGoEdVxpc"
      }
    },
    {
      "cell_type": "code",
      "execution_count": 12,
      "metadata": {
        "colab": {
          "base_uri": "https://localhost:8080/"
        },
        "id": "CD3UMJR8Qgiv",
        "outputId": "0a9ab8bd-7d2e-4a82-bbce-2c1135cf2265"
      },
      "outputs": [
        {
          "output_type": "stream",
          "name": "stdout",
          "text": [
            "210\n",
            "10.5\n"
          ]
        }
      ],
      "source": [
        "n=20\n",
        "total_numbers=n\n",
        "sum=0\n",
        "average=0\n",
        "\n",
        "while n>=0:\n",
        "  sum+=n\n",
        "  n-=1\n",
        "\n",
        "print(sum)\n",
        "average=sum/total_numbers\n",
        "print(average)"
      ]
    }
  ]
}