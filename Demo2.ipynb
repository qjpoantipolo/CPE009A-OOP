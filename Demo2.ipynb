{
  "nbformat": 4,
  "nbformat_minor": 0,
  "metadata": {
    "colab": {
      "provenance": [],
      "authorship_tag": "ABX9TyOZQ8XnzswkB8GMKFB35Jkb",
      "include_colab_link": true
    },
    "kernelspec": {
      "name": "python3",
      "display_name": "Python 3"
    },
    "language_info": {
      "name": "python"
    }
  },
  "cells": [
    {
      "cell_type": "markdown",
      "metadata": {
        "id": "view-in-github",
        "colab_type": "text"
      },
      "source": [
        "<a href=\"https://colab.research.google.com/github/qjpoantipolo/CPE009A-OOP/blob/main/Demo2.ipynb\" target=\"_parent\"><img src=\"https://colab.research.google.com/assets/colab-badge.svg\" alt=\"Open In Colab\"/></a>"
      ]
    },
    {
      "cell_type": "code",
      "execution_count": 1,
      "metadata": {
        "colab": {
          "base_uri": "https://localhost:8080/"
        },
        "id": "T9iQ4oozMPlj",
        "outputId": "65d88b76-a03e-4b43-9f9b-63aa59f3e53d"
      },
      "outputs": [
        {
          "output_type": "stream",
          "name": "stdout",
          "text": [
            "150\n",
            "50.0\n"
          ]
        }
      ],
      "source": [
        "num1 = 50\n",
        "num2 = 50\n",
        "num3 = 50\n",
        "average = 0\n",
        "sum = 0\n",
        "sum = num1 + num2 + num3\n",
        "average = sum / 3\n",
        "print (sum)\n",
        "print (average)"
      ]
    }
  ]
}