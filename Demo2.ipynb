{
  "nbformat": 4,
  "nbformat_minor": 0,
  "metadata": {
    "colab": {
      "provenance": [],
      "authorship_tag": "ABX9TyOJzANB0CnYH90BfD7ugCHH",
      "include_colab_link": true
    },
    "kernelspec": {
      "name": "python3",
      "display_name": "Python 3"
    },
    "language_info": {
      "name": "python"
    }
  },
  "cells": [
    {
      "cell_type": "markdown",
      "metadata": {
        "id": "view-in-github",
        "colab_type": "text"
      },
      "source": [
        "<a href=\"https://colab.research.google.com/github/qjpoantipolo/CPE009A-OOP/blob/main/Demo2.ipynb\" target=\"_parent\"><img src=\"https://colab.research.google.com/assets/colab-badge.svg\" alt=\"Open In Colab\"/></a>"
      ]
    },
    {
      "cell_type": "markdown",
      "source": [
        "**Algorithm and Flowchart**"
      ],
      "metadata": {
        "id": "HDSbD4e-O9ZM"
      }
    },
    {
      "cell_type": "code",
      "execution_count": 1,
      "metadata": {
        "colab": {
          "base_uri": "https://localhost:8080/"
        },
        "id": "T9iQ4oozMPlj",
        "outputId": "65d88b76-a03e-4b43-9f9b-63aa59f3e53d"
      },
      "outputs": [
        {
          "output_type": "stream",
          "name": "stdout",
          "text": [
            "150\n",
            "50.0\n"
          ]
        }
      ],
      "source": [
        "num1 = 50\n",
        "num2 = 50\n",
        "num3 = 50\n",
        "average = 0\n",
        "sum = 0\n",
        "sum = num1 + num2 + num3\n",
        "average = sum / 3\n",
        "print (sum)\n",
        "print (average)"
      ]
    },
    {
      "cell_type": "code",
      "source": [
        "print (\"Input three grades\")\n",
        "num1 = input()\n",
        "num2 = input()\n",
        "num3 = input()\n",
        "average = (int(num1)+int(num2)+int(num3))/3\n",
        "print (average)"
      ],
      "metadata": {
        "colab": {
          "base_uri": "https://localhost:8080/"
        },
        "id": "hlXzQOb2PP7c",
        "outputId": "ee2c27e0-8565-48d2-d104-a70244bffec5"
      },
      "execution_count": 9,
      "outputs": [
        {
          "output_type": "stream",
          "name": "stdout",
          "text": [
            "Input three grades\n",
            "4\n",
            "4\n",
            "4\n",
            "4.0\n"
          ]
        }
      ]
    }
  ]
}