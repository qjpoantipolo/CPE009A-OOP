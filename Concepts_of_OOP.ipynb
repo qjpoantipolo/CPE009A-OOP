{
  "nbformat": 4,
  "nbformat_minor": 0,
  "metadata": {
    "colab": {
      "provenance": [],
      "authorship_tag": "ABX9TyMLqc81FyBGSWNpKR0yRECB",
      "include_colab_link": true
    },
    "kernelspec": {
      "name": "python3",
      "display_name": "Python 3"
    },
    "language_info": {
      "name": "python"
    }
  },
  "cells": [
    {
      "cell_type": "markdown",
      "metadata": {
        "id": "view-in-github",
        "colab_type": "text"
      },
      "source": [
        "<a href=\"https://colab.research.google.com/github/qjpoantipolo/CPE009A-OOP/blob/main/Concepts_of_OOP.ipynb\" target=\"_parent\"><img src=\"https://colab.research.google.com/assets/colab-badge.svg\" alt=\"Open In Colab\"/></a>"
      ]
    },
    {
      "cell_type": "code",
      "execution_count": 2,
      "metadata": {
        "colab": {
          "base_uri": "https://localhost:8080/"
        },
        "id": "_h-Y87Jag6eV",
        "outputId": "35a1a6e1-50d2-4102-d446-9564c029c655"
      },
      "outputs": [
        {
          "output_type": "stream",
          "name": "stdout",
          "text": [
            "<__main__.car object at 0x79c69883f160>\n"
          ]
        }
      ],
      "source": [
        "class car:\n",
        "  pass\n",
        "\n",
        "obj1=car()\n",
        "print(obj1)"
      ]
    },
    {
      "cell_type": "code",
      "source": [
        "class Car:                              #class constructor\n",
        "  def __init__(self,name,color,mileage):\n",
        "    self.name=name\n",
        "    self.color=color                    #class attributes\n",
        "    self.mileage=mileage\n",
        "\n",
        "obj1 = Car(\"BMW\",\"Red\", 1000)\n",
        "print(obj1.name)\n",
        "print(obj1.color)\n",
        "print(obj1.mileage)"
      ],
      "metadata": {
        "colab": {
          "base_uri": "https://localhost:8080/"
        },
        "id": "Al2b2_-KhqwG",
        "outputId": "f075b738-ee03-4602-b96d-393a1cdf8326"
      },
      "execution_count": 24,
      "outputs": [
        {
          "output_type": "stream",
          "name": "stdout",
          "text": [
            "BMW\n",
            "Red\n",
            "1000\n"
          ]
        }
      ]
    },
    {
      "cell_type": "markdown",
      "source": [
        "Application 1 - write a Phyton Program that prints your student information with the following attributes: Name, Age, Course, and Section || class name student()"
      ],
      "metadata": {
        "id": "aLocHxXtmDIF"
      }
    },
    {
      "cell_type": "code",
      "source": [
        "class Student:\n",
        "  def __init__(self,name,age,course,section):\n",
        "    self.name=name\n",
        "    self.age=age\n",
        "    self.course=course\n",
        "    self.section=section\n",
        "\n",
        "obj1=Student(\"John Paul O. Antipolo\",18,\"CPE009A\",\"CpE12S6\")\n",
        "print(\"Student name is: \",obj1.name)\n",
        "print(\"Student age is: \",obj1.age)\n",
        "print(\"Student course is: \",obj1.course)\n",
        "print(\"Student section is: \",obj1.section)"
      ],
      "metadata": {
        "colab": {
          "base_uri": "https://localhost:8080/"
        },
        "id": "6AkApvL5l5vN",
        "outputId": "6c50e114-3edf-4656-d9fb-c7c61ed2262a"
      },
      "execution_count": 21,
      "outputs": [
        {
          "output_type": "stream",
          "name": "stdout",
          "text": [
            "Student name is:  John Paul O. Antipolo\n",
            "Student age is:  18\n",
            "Student course is:  CPE009A\n",
            "Student section is:  CpE12S6\n"
          ]
        }
      ]
    }
  ]
}