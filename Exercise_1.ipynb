{
  "nbformat": 4,
  "nbformat_minor": 0,
  "metadata": {
    "colab": {
      "provenance": [],
      "authorship_tag": "ABX9TyMfjItjld8Eer5ZmEDRXOrC",
      "include_colab_link": true
    },
    "kernelspec": {
      "name": "python3",
      "display_name": "Python 3"
    },
    "language_info": {
      "name": "python"
    }
  },
  "cells": [
    {
      "cell_type": "markdown",
      "metadata": {
        "id": "view-in-github",
        "colab_type": "text"
      },
      "source": [
        "<a href=\"https://colab.research.google.com/github/qjpoantipolo/CPE009A-OOP/blob/main/Exercise_1.ipynb\" target=\"_parent\"><img src=\"https://colab.research.google.com/assets/colab-badge.svg\" alt=\"Open In Colab\"/></a>"
      ]
    },
    {
      "cell_type": "markdown",
      "source": [
        "Algorithm to get the perimeter and the area of a rectangle\n",
        "1. Input your desired width and height\n",
        "2. the program will compute the perimeter using the given inputed\n",
        "    (2*(width + height))\n",
        "3. The program will compute the area using the given inputed\n",
        "    (width * height)\n",
        "4. The program will print the results"
      ],
      "metadata": {
        "id": "dj4ufp1DT7_d"
      }
    },
    {
      "cell_type": "code",
      "execution_count": 9,
      "metadata": {
        "colab": {
          "base_uri": "https://localhost:8080/"
        },
        "id": "98GFiUalTNmw",
        "outputId": "df9dac7e-cdc8-4c5f-b564-766c3049cf3a"
      },
      "outputs": [
        {
          "output_type": "stream",
          "name": "stdout",
          "text": [
            "Perimeter and Area of rectangle\n",
            "Input you width: 4\n",
            "Input your height: 4\n",
            "16.0\n",
            "16.0\n"
          ]
        }
      ],
      "source": [
        "print(\"Perimeter and Area of rectangle\")\n",
        "(width) = float(input(\"Input you width: \"))\n",
        "(height) = float(input(\"Input your height: \"))\n",
        "perimeter = 2*(width + height)\n",
        "area = width * height\n",
        "print(perimeter)\n",
        "print(area)"
      ]
    }
  ]
}